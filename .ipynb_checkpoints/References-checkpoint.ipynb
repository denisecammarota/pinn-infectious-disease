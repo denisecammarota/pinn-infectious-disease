{
 "cells": [
  {
   "cell_type": "markdown",
   "id": "480f3cc1-521e-454a-8542-aead3c0b0531",
   "metadata": {},
   "source": [
    "## References\n",
    "\n",
    "Here I will list some useful references I used when learning PINNs and writing this tutorial. \n",
    "\n",
    "### Original PINN papers\n",
    "- Physics Informed Deep Learning (Part I): Data-driven Solutions of Nonlinear Partial Differential Equations (https://arxiv.org/abs/1711.10561)\n",
    "- Physics Informed Deep Learning (Part II): Data-driven Discovery of Nonlinear Partial Differential Equations (https://arxiv.org/abs/1711.10566)\n",
    "\n",
    "### PINNs for infectious disease modeling papers\n",
    "- Data-driven approaches for predicting spread of infectious diseases through DINNs: Disease Informed Neural Networks (https://arxiv.org/abs/2110.05445)\n",
    "- Physics-informed deep learning for infectious disease forecasting (https://arxiv.org/abs/2501.09298)\n",
    "- Deep neural networks for endemic measles dynamics: Comparative analysis and integration with mechanistic models (https://doi.org/10.1371/journal.pcbi.1012616)\n",
    "\n",
    "### Online resources, articles and tutorials\n",
    "- https://medium.com/@theo.wolf/physics-informed-neural-networks-a-simple-tutorial-with-pytorch-f28a890b874a"
   ]
  }
 ],
 "metadata": {
  "kernelspec": {
   "display_name": "Python 3 (ipykernel)",
   "language": "python",
   "name": "python3"
  },
  "language_info": {
   "codemirror_mode": {
    "name": "ipython",
    "version": 3
   },
   "file_extension": ".py",
   "mimetype": "text/x-python",
   "name": "python",
   "nbconvert_exporter": "python",
   "pygments_lexer": "ipython3",
   "version": "3.8.16"
  }
 },
 "nbformat": 4,
 "nbformat_minor": 5
}
