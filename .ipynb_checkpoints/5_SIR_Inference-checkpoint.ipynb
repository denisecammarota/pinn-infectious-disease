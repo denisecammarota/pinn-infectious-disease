{
 "cells": [
  {
   "cell_type": "markdown",
   "id": "4705ac61-a392-41dc-b54e-e1d462f698bf",
   "metadata": {},
   "source": [
    "# Notebook 5: Inference on the SIR Model\n",
    "\n",
    "In this final notebook, we will do an example of parameter inference using real epidemiological data and the SIR Model from Notebook 4. First, we will initialize our notebook as always by importing the necessary data and files. "
   ]
  },
  {
   "cell_type": "code",
   "execution_count": 2,
   "id": "f631cd2a-01ac-40f8-825d-edd315ce161b",
   "metadata": {},
   "outputs": [
    {
     "data": {
      "text/plain": [
       "<torch._C.Generator at 0x144a590dbd0>"
      ]
     },
     "execution_count": 2,
     "metadata": {},
     "output_type": "execute_result"
    }
   ],
   "source": [
    "import numpy as np\n",
    "import torch\n",
    "import torch.nn as nn\n",
    "from torch.autograd import grad\n",
    "import torch.optim as optim\n",
    "import pandas as pd\n",
    "from scipy.integrate import odeint\n",
    "import matplotlib.pyplot as plt\n",
    "from neuralnet import NNetwork\n",
    "torch.manual_seed(1234) "
   ]
  },
  {
   "cell_type": "markdown",
   "id": "65bf5e7d-6deb-4701-a803-a6f36a9b7e01",
   "metadata": {},
   "source": [
    "Now, we will upload the data we will use for inference, which is contained in the <code>influenza_england_1978_school.csv</code> file. This is data on an influenza outbreak in a boarding school in England in 1978, which is used in several modeling exercises in the literature.\n",
    "\n",
    "Let us see what the data look like. \n",
    "\n",
    "The resulting dataframe has three columns:\n",
    "- date, measured in days\n",
    "- in_bed, indicating the number of students in bed\n",
    "- convalescent, indicating the number of convalescent students, not attending class but not bed-ridden.\n",
    "\n",
    "There are 14 columns only, that is, there is not much data in this dataset."
   ]
  },
  {
   "cell_type": "code",
   "execution_count": 3,
   "id": "51adb24e-d2ab-4a5c-aedf-19e08d3eaa43",
   "metadata": {},
   "outputs": [
    {
     "data": {
      "text/html": [
       "<div>\n",
       "<style scoped>\n",
       "    .dataframe tbody tr th:only-of-type {\n",
       "        vertical-align: middle;\n",
       "    }\n",
       "\n",
       "    .dataframe tbody tr th {\n",
       "        vertical-align: top;\n",
       "    }\n",
       "\n",
       "    .dataframe thead th {\n",
       "        text-align: right;\n",
       "    }\n",
       "</style>\n",
       "<table border=\"1\" class=\"dataframe\">\n",
       "  <thead>\n",
       "    <tr style=\"text-align: right;\">\n",
       "      <th></th>\n",
       "      <th>date</th>\n",
       "      <th>in_bed</th>\n",
       "      <th>convalescent</th>\n",
       "    </tr>\n",
       "  </thead>\n",
       "  <tbody>\n",
       "    <tr>\n",
       "      <th>0</th>\n",
       "      <td>1978-01-22</td>\n",
       "      <td>3</td>\n",
       "      <td>0</td>\n",
       "    </tr>\n",
       "    <tr>\n",
       "      <th>1</th>\n",
       "      <td>1978-01-23</td>\n",
       "      <td>8</td>\n",
       "      <td>0</td>\n",
       "    </tr>\n",
       "    <tr>\n",
       "      <th>2</th>\n",
       "      <td>1978-01-24</td>\n",
       "      <td>26</td>\n",
       "      <td>0</td>\n",
       "    </tr>\n",
       "    <tr>\n",
       "      <th>3</th>\n",
       "      <td>1978-01-25</td>\n",
       "      <td>76</td>\n",
       "      <td>0</td>\n",
       "    </tr>\n",
       "    <tr>\n",
       "      <th>4</th>\n",
       "      <td>1978-01-26</td>\n",
       "      <td>225</td>\n",
       "      <td>9</td>\n",
       "    </tr>\n",
       "    <tr>\n",
       "      <th>5</th>\n",
       "      <td>1978-01-27</td>\n",
       "      <td>298</td>\n",
       "      <td>17</td>\n",
       "    </tr>\n",
       "    <tr>\n",
       "      <th>6</th>\n",
       "      <td>1978-01-28</td>\n",
       "      <td>258</td>\n",
       "      <td>105</td>\n",
       "    </tr>\n",
       "    <tr>\n",
       "      <th>7</th>\n",
       "      <td>1978-01-29</td>\n",
       "      <td>233</td>\n",
       "      <td>162</td>\n",
       "    </tr>\n",
       "    <tr>\n",
       "      <th>8</th>\n",
       "      <td>1978-01-30</td>\n",
       "      <td>189</td>\n",
       "      <td>176</td>\n",
       "    </tr>\n",
       "    <tr>\n",
       "      <th>9</th>\n",
       "      <td>1978-01-31</td>\n",
       "      <td>128</td>\n",
       "      <td>166</td>\n",
       "    </tr>\n",
       "    <tr>\n",
       "      <th>10</th>\n",
       "      <td>1978-02-01</td>\n",
       "      <td>68</td>\n",
       "      <td>150</td>\n",
       "    </tr>\n",
       "    <tr>\n",
       "      <th>11</th>\n",
       "      <td>1978-02-02</td>\n",
       "      <td>29</td>\n",
       "      <td>85</td>\n",
       "    </tr>\n",
       "    <tr>\n",
       "      <th>12</th>\n",
       "      <td>1978-02-03</td>\n",
       "      <td>14</td>\n",
       "      <td>47</td>\n",
       "    </tr>\n",
       "    <tr>\n",
       "      <th>13</th>\n",
       "      <td>1978-02-04</td>\n",
       "      <td>4</td>\n",
       "      <td>20</td>\n",
       "    </tr>\n",
       "  </tbody>\n",
       "</table>\n",
       "</div>"
      ],
      "text/plain": [
       "          date  in_bed  convalescent\n",
       "0   1978-01-22       3             0\n",
       "1   1978-01-23       8             0\n",
       "2   1978-01-24      26             0\n",
       "3   1978-01-25      76             0\n",
       "4   1978-01-26     225             9\n",
       "5   1978-01-27     298            17\n",
       "6   1978-01-28     258           105\n",
       "7   1978-01-29     233           162\n",
       "8   1978-01-30     189           176\n",
       "9   1978-01-31     128           166\n",
       "10  1978-02-01      68           150\n",
       "11  1978-02-02      29            85\n",
       "12  1978-02-03      14            47\n",
       "13  1978-02-04       4            20"
      ]
     },
     "execution_count": 3,
     "metadata": {},
     "output_type": "execute_result"
    }
   ],
   "source": [
    "df = pd.read_csv('influenza_england_1978_school.csv')\n",
    "df"
   ]
  },
  {
   "cell_type": "markdown",
   "id": "574ee30c-f82c-43e1-8b22-5772d183af7c",
   "metadata": {},
   "source": [
    "We will use the number of students in bed as the number of infected students as a simplification, thinking that convalescent students (out of bed) are fit and not transmitting the pathogen anymore. This is clearly a modeling choice that could be refined by knowing more about the epidemiology of influenza, the system in question or constructing a more complex model. However, we will proceed with this modeling choice to conduct inference in this case, which is merely an example. \n",
    "\n",
    "Let us now convert the numbers of in_bed students into proportions, knowing that there are $N = 763$ students in total, plausible of exposure during the outbreak."
   ]
  },
  {
   "cell_type": "code",
   "execution_count": 4,
   "id": "a4f2db95-718b-4bc2-ad53-4c921debd136",
   "metadata": {},
   "outputs": [
    {
     "data": {
      "image/png": "[encoded data removed]",
      "text/plain": [
       "<Figure size 640x480 with 1 Axes>"
      ]
     },
     "metadata": {},
     "output_type": "display_data"
    }
   ],
   "source": [
    "t = np.arange(0, 14)\n",
    "N = 763\n",
    "y = df['in_bed']/N\n",
    "y0 = [1 - y[0], y[0], 0]\n",
    "\n",
    "plt.plot(t, df['in_bed']/N, '-o')\n",
    "plt.show() "
   ]
  },
  {
   "cell_type": "markdown",
   "id": "e498e1b7-8622-4f54-81ec-43ea9408b890",
   "metadata": {},
   "source": [
    "This has the typical bell shape of several infectious disease outbreaks. \n",
    "\n",
    "Now we proceed similarly as we did in all examples before, we will define the tensors for training, our model and optimizer and then plot our results."
   ]
  },
  {
   "cell_type": "markdown",
   "id": "8741addf-b6d9-4f57-849e-d12f9a151673",
   "metadata": {},
   "source": [
    "## Defining training tensors"
   ]
  },
  {
   "cell_type": "markdown",
   "id": "5517c9d9-33db-49ae-aee3-45e3e5c57a1b",
   "metadata": {},
   "source": [
    "### Collocation points"
   ]
  },
  {
   "cell_type": "code",
   "execution_count": 5,
   "id": "c1234b8f-7f19-4ed3-96ec-b7203641b521",
   "metadata": {},
   "outputs": [],
   "source": [
    "t_col = np.linspace(0, 20, 20)\n",
    "t_col = torch.tensor(t_col, dtype = torch.float32).view(-1, 1).requires_grad_(True)"
   ]
  },
  {
   "cell_type": "markdown",
   "id": "61d2d618-a1ce-4452-8e06-bd4965d870b3",
   "metadata": {},
   "source": [
    "### Initial condition\n",
    "\n",
    "We will use as our initial condition the first value of our real timeseries."
   ]
  },
  {
   "cell_type": "code",
   "execution_count": 6,
   "id": "3c52d5d4-ccc2-4357-ae26-8cda3886a394",
   "metadata": {},
   "outputs": [],
   "source": [
    "t_initial = torch.tensor([0.0], dtype=torch.float32).view(-1, 1)\n",
    "y_initial = torch.tensor(y0, dtype = torch.float32)"
   ]
  },
  {
   "cell_type": "markdown",
   "id": "667f0dcf-ad9c-43b6-8294-f21fd9d342e1",
   "metadata": {},
   "source": [
    "### Training data\n",
    "\n",
    "We will train by using the first 12 data points and trying to predict the last two. This is also a choice after some experimentation. As there is little data available and our model is very basic, I chose to use most of the data available, in order to obtain a reasonable approximation and reasonable parameters."
   ]
  },
  {
   "cell_type": "code",
   "execution_count": 11,
   "id": "513a50ba-b0bd-4242-8167-2a626eefc52f",
   "metadata": {},
   "outputs": [],
   "source": [
    "t_data = torch.tensor(t[0:12], dtype = torch.float32).view(-1, 1).requires_grad_(True)\n",
    "y_data = torch.tensor(y[0:12], dtype = torch.float32).view(-1, 1)"
   ]
  },
  {
   "cell_type": "markdown",
   "id": "bb0988e1-5491-4334-b78c-e0db513f3ed1",
   "metadata": {},
   "source": [
    "## Defining model and optimizer\n",
    "\n",
    "Similarly to the previous example of inference, we define our model and our optimizer. It is worth remembering that, as in the 1D case, we have to tell the optimizer which parameters - other than neural network parameters - it has to find.\n",
    "\n",
    "First, we define our model:"
   ]
  },
  {
   "cell_type": "code",
   "execution_count": 7,
   "id": "0a0f3d0b-05bc-46ae-b9e2-aeeb5d5634d4",
   "metadata": {},
   "outputs": [],
   "source": [
    "model = NNetwork(1, 3, 32, 3)"
   ]
  },
  {
   "cell_type": "markdown",
   "id": "6454e757-7b93-4562-9d5f-4bae03a9a450",
   "metadata": {},
   "source": [
    "Now, we specify the parameters we will inferr. The SIR model has two parameters, as seen in the previous notebook: $\\beta$ and $\\gamma$. We will try to find optimal values for both. As our initial guess, we will use $\\gamma = 1/10$, corresponding to a recovery period of 10 days and $\\beta = 0.4$, which gives an $R_0 = 4$. The recovery period - at least, in order - is a reasonable guess for respiratory paathogens. On the other hand, a reproductive number of $R_0 = 4$ is a reasonable value for influenza. "
   ]
  },
  {
   "cell_type": "code",
   "execution_count": 8,
   "id": "2ed43c02-8ef2-42d6-9a12-56757c5dd5c6",
   "metadata": {},
   "outputs": [],
   "source": [
    "beta = torch.nn.Parameter(torch.tensor([0.4], dtype = torch.float32, requires_grad = True))\n",
    "gamma = torch.nn.Parameter(torch.tensor([0.1], dtype = torch.float32, requires_grad = True))"
   ]
  },
  {
   "cell_type": "markdown",
   "id": "225b7661-7df0-4969-b832-f43d1dc741c8",
   "metadata": {},
   "source": [
    "Finally, we specify our optimizer, along with the extra parameters it needs to optimize over. "
   ]
  },
  {
   "cell_type": "code",
   "execution_count": 9,
   "id": "cf224cd9-3344-41eb-b2a3-cca11e2baceb",
   "metadata": {},
   "outputs": [],
   "source": [
    "optimizer = torch.optim.Adam(list(model.parameters()) + [beta, gamma], lr = 1e-3)"
   ]
  },
  {
   "cell_type": "markdown",
   "id": "c2d6fbf6-65ff-481d-85e7-cc5c147a2fa7",
   "metadata": {},
   "source": [
    "## Training the model \n",
    "\n",
    "In order to train the model, the process is similar to what was done in the previous example. However, when using the training data, we have to take into account that we only have $I(t)$, which is what we observe, rather than the proportions of $S$, $I$ and $R$. Therefore, our training and initial condition data are calculated only over the infected numbers. The data loss is:\n",
    "\n",
    "\\begin{aligned}\n",
    "\\mathcal{L_{\\mathrm{data}}} = \\sum_t \\Big(\\widehat{I(t)} - I(t)\\Big)^2,\n",
    "\\end{aligned}\n",
    "\n",
    "And the initial condition loss is:\n",
    "\n",
    "\\begin{aligned}\n",
    "\\mathcal{L_{\\mathrm{boundary}}} = \\sum_t \\Big(\\widehat{I(t = 0)} - I_0\\Big)^2.\n",
    "\\end{aligned}\n",
    "\n",
    "Now, we train. Apart from printing the loss values every 1000 epochs, we also print the values of $\\beta$ and $\\gamma$ parameters obtained by this epoch. "
   ]
  },
  {
   "cell_type": "code",
   "execution_count": 12,
   "id": "2c8c5eb2-c6b9-4826-8940-841414ac48c4",
   "metadata": {},
   "outputs": [
    {
     "name": "stdout",
     "output_type": "stream",
     "text": [
      "Epoch 0, Loss: 0.279196, Beta: 0.39900001883506775, Gamma: 0.0990000069141388, R0: 4.030302939080746\n",
      "Epoch 1000, Loss: 0.001795, Beta: 0.6138126850128174, Gamma: 0.3311167061328888, R0: 1.8537653753008545\n",
      "Epoch 2000, Loss: 0.000610, Beta: 1.2614226341247559, Gamma: 0.4303453266620636, R0: 2.9311870165034013\n",
      "Epoch 3000, Loss: 0.000397, Beta: 1.5693691968917847, Gamma: 0.44452741742134094, R0: 3.5304216014290826\n",
      "Epoch 4000, Loss: 0.000350, Beta: 1.6922248601913452, Gamma: 0.4477483928203583, R0: 3.779410238710304\n",
      "Epoch 5000, Loss: 0.000331, Beta: 1.7450599670410156, Gamma: 0.4492264688014984, R0: 3.884588483169082\n",
      "Epoch 6000, Loss: 0.000316, Beta: 1.7898964881896973, Gamma: 0.449667751789093, R0: 3.980486661692408\n",
      "Epoch 7000, Loss: 0.000306, Beta: 1.8115127086639404, Gamma: 0.45002231001853943, R0: 4.0253842272604485\n",
      "Epoch 8000, Loss: 0.000298, Beta: 1.8131232261657715, Gamma: 0.4506354331970215, R0: 4.023481272439265\n",
      "Epoch 9000, Loss: 0.000287, Beta: 1.8084824085235596, Gamma: 0.4509121775627136, R0: 4.010719821981372\n",
      "Epoch 10000, Loss: 0.000268, Beta: 1.7956515550613403, Gamma: 0.45162710547447205, R0: 3.975960550850592\n",
      "Epoch 11000, Loss: 0.000257, Beta: 1.7262392044067383, Gamma: 0.44904229044914246, R0: 3.8442686604865526\n",
      "Epoch 12000, Loss: 0.000219, Beta: 1.641435980796814, Gamma: 0.4545034170150757, R0: 3.6114931579103358\n",
      "Epoch 13000, Loss: 0.000213, Beta: 1.618554949760437, Gamma: 0.452677845954895, R0: 3.5755117336175326\n",
      "Epoch 14000, Loss: 0.000209, Beta: 1.6142255067825317, Gamma: 0.45354241132736206, R0: 3.5591500738778783\n",
      "Epoch 15000, Loss: 0.001247, Beta: 1.611904263496399, Gamma: 0.45257568359375, R0: 3.5616236619184085\n",
      "Epoch 16000, Loss: 0.000205, Beta: 1.6115862131118774, Gamma: 0.4535755515098572, R0: 3.5530711647646074\n",
      "Epoch 17000, Loss: 0.000201, Beta: 1.613693118095398, Gamma: 0.45217186212539673, R0: 3.568760582558954\n",
      "Epoch 18000, Loss: 0.000196, Beta: 1.6122827529907227, Gamma: 0.4447244703769684, R0: 3.6253520109295527\n",
      "Epoch 19000, Loss: 0.000188, Beta: 1.5991791486740112, Gamma: 0.42149096727371216, R0: 3.7941006399682102\n"
     ]
    }
   ],
   "source": [
    "loss_epochs = []\n",
    "n_epochs = 20000\n",
    "\n",
    "for epoch in range(n_epochs):\n",
    "    \n",
    "    optimizer.zero_grad()\n",
    "    y_col = model(t_col)\n",
    "    y_pred = model(t_data)\n",
    "    y_pred_initial = model(t_initial)\n",
    "    \n",
    "    # ODE Loss\n",
    "    S_pred = y_col[:, 0].view(-1, 1)\n",
    "    I_pred = y_col[:, 1].view(-1, 1)\n",
    "    R_pred = y_col[:, 2].view(-1, 1)\n",
    "    dSdt = torch.autograd.grad(S_pred, t_col, torch.ones_like(S_pred), create_graph=True)[0]\n",
    "    dIdt = torch.autograd.grad(I_pred, t_col, torch.ones_like(I_pred), create_graph=True)[0]\n",
    "    dRdt = torch.autograd.grad(R_pred, t_col, torch.ones_like(R_pred), create_graph=True)[0]\n",
    "    loss_ode_1 = dSdt + beta*S_pred*I_pred \n",
    "    loss_ode_2 = dIdt - beta*S_pred*I_pred + gamma*I_pred\n",
    "    loss_ode_3 = dRdt - gamma*I_pred\n",
    "    loss_ode = torch.mean(loss_ode_1**2 + loss_ode_2**2 + loss_ode_3**2)\n",
    "    \n",
    "    # Boundary condition loss\n",
    "    loss_boundary = torch.mean((y_pred_initial - y_initial)**2)\n",
    "    \n",
    "    # Data loss\n",
    "    loss_data = torch.mean((y_pred[:,1].view(-1, 1) - y_data)**2)\n",
    "    \n",
    "    loss = loss_ode + loss_boundary + loss_data \n",
    "    loss_epochs.append(loss.item())\n",
    "    loss.backward()\n",
    "    optimizer.step()\n",
    "    \n",
    "    if epoch % 1000 == 0:\n",
    "        print(f\"Epoch {epoch}, Loss: {loss.item():.6f}, Beta: {beta.item()}, Gamma: {gamma.item()}, R0: {beta.item()/gamma.item()}\")\n",
    "        #print(f\"Epoch {epoch}, Loss ODE: {loss_ode.item():.6f}\")\n",
    "        #print(f\"Epoch {epoch}, Loss Boundary: {loss_boundary.item():.6f}\")\n",
    "        #print(f\"Epoch {epoch}, Loss Data: {loss_data.item():.6f}\")\n"
   ]
  },
  {
   "cell_type": "code",
   "execution_count": 13,
   "id": "43558a71-56d6-4081-8814-dc661ff7973b",
   "metadata": {},
   "outputs": [
    {
     "data": {
      "image/png": "[encoded data removed]",
      "text/plain": [
       "<Figure size 640x480 with 1 Axes>"
      ]
     },
     "metadata": {},
     "output_type": "display_data"
    }
   ],
   "source": [
    "plt.plot(loss_epochs)\n",
    "plt.xlabel('Epoch')\n",
    "plt.ylabel('Neural Network Loss')\n",
    "plt.ylim((-0.000001, 0.1))\n",
    "plt.show()"
   ]
  },
  {
   "cell_type": "markdown",
   "id": "d208c384-12bf-4c9f-8d7d-3286c2c623ad",
   "metadata": {},
   "source": [
    "## Plotting results\n",
    "\n",
    "First, we will plot the actual infected numbers along with the PINN predictions, highlighting the data used for training."
   ]
  },
  {
   "cell_type": "code",
   "execution_count": 14,
   "id": "d543afe1-2f46-432c-9303-cc2f650beb2d",
   "metadata": {},
   "outputs": [],
   "source": [
    "t_res = torch.tensor(t, dtype = torch.float32).view(-1, 1)\n",
    "y_res = model(t_res)\n",
    "S_res = y_res[:, 0].detach().cpu().numpy()\n",
    "I_res = y_res[:, 1].detach().cpu().numpy()\n",
    "R_res = y_res[:, 2].detach().cpu().numpy()"
   ]
  },
  {
   "cell_type": "code",
   "execution_count": 15,
   "id": "720fd785-42f9-4baa-83c0-5af90a83f21e",
   "metadata": {},
   "outputs": [
    {
     "data": {
      "image/png": "[encoded data removed]",
      "text/plain": [
       "<Figure size 640x480 with 1 Axes>"
      ]
     },
     "metadata": {},
     "output_type": "display_data"
    }
   ],
   "source": [
    "plt.plot(t[0:12], y[0:12], '-o', color = 'red', label = 'Infected (train)', alpha = 0.5)\n",
    "plt.plot(t, y, color = 'red', label = 'Infected (real)', alpha = 0.5)\n",
    "plt.plot(t_res, I_res, color = 'red', linestyle = '--', label = 'Infected (PINN)')\n",
    "plt.legend()\n",
    "plt.show()    "
   ]
  },
  {
   "cell_type": "markdown",
   "id": "d98a0bf5-e6b9-4720-9404-d2027a0191c2",
   "metadata": {},
   "source": [
    "Next, we obtain the values of inferred parameters. The value of $R_0 \\approx 4$, which is near what we expected and, from $\\gamma$, the recovery period is of about $1/0.4 \\approx 2.5$ days. "
   ]
  },
  {
   "cell_type": "code",
   "execution_count": 16,
   "id": "6b847532-00f4-47c5-893e-6234ad9d69ad",
   "metadata": {},
   "outputs": [
    {
     "name": "stdout",
     "output_type": "stream",
     "text": [
      "Beta: 1.5916244983673096, Gamma: 0.40878885984420776, R0: 3.89351240876253\n"
     ]
    }
   ],
   "source": [
    "print(f\"Beta: {beta.item()}, Gamma: {gamma.item()}, R0: {beta.item()/gamma.item()}\")"
   ]
  }
 ],
 "metadata": {
  "kernelspec": {
   "display_name": "Python 3 (ipykernel)",
   "language": "python",
   "name": "python3"
  },
  "language_info": {
   "codemirror_mode": {
    "name": "ipython",
    "version": 3
   },
   "file_extension": ".py",
   "mimetype": "text/x-python",
   "name": "python",
   "nbconvert_exporter": "python",
   "pygments_lexer": "ipython3",
   "version": "3.8.16"
  }
 },
 "nbformat": 4,
 "nbformat_minor": 5
}
