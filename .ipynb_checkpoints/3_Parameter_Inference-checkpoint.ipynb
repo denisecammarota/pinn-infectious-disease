{
 "cells": [
  {
   "cell_type": "markdown",
   "id": "71f4a82a",
   "metadata": {},
   "source": [
    "# Notebook 3: Parameter Inference\n",
    "\n",
    "In this notebook, we will modify our previous PINN in order to perform parameter inference and finding the $\\beta$ value of simulated data. This is another capability of PINNs: apart from using NN architecture to find solutions of ODEs, it can use them to find parameter values from observational data. "
   ]
  },
  {
   "cell_type": "markdown",
   "id": "63c6b6f4",
   "metadata": {},
   "source": [
    "## Importing packages and necessary files"
   ]
  },
  {
   "cell_type": "code",
   "execution_count": 2,
   "id": "5b0f737a",
   "metadata": {},
   "outputs": [
    {
     "data": {
      "text/plain": [
       "<torch._C.Generator at 0x17f205e2f30>"
      ]
     },
     "execution_count": 2,
     "metadata": {},
     "output_type": "execute_result"
    }
   ],
   "source": [
    "import numpy as np\n",
    "import torch\n",
    "import torch.nn as nn\n",
    "from torch.autograd import grad\n",
    "import torch.optim as optim\n",
    "import pandas as pd\n",
    "import matplotlib.pyplot as plt\n",
    "from neuralnet import NNetwork\n",
    "torch.manual_seed(1234)  # setting pytorch seed"
   ]
  },
  {
   "cell_type": "code",
   "execution_count": 3,
   "id": "9d07265e",
   "metadata": {},
   "outputs": [],
   "source": [
    "@np.vectorize\n",
    "def model_SI(t, beta, I0):\n",
    "    # Returns the analytical solution of the SI model for:\n",
    "    ## Time t \n",
    "    ## Transmissibility beta\n",
    "    ## Initial condition I0\n",
    "    return (I0*np.exp(beta*t))/((1 - I0) + I0*np.exp(beta*t))"
   ]
  },
  {
   "cell_type": "markdown",
   "id": "c29e9138",
   "metadata": {},
   "source": [
    "## Calculating $I(t)$ dynamics\n",
    "As done in the previous notebook, we compute the $I(t)$ values, then used for training and evaluating networks. As always, we will use a value of $\\beta = 0.1$, which we will try to recover from training our PINN. "
   ]
  },
  {
   "cell_type": "code",
   "execution_count": 18,
   "id": "46321c49",
   "metadata": {},
   "outputs": [],
   "source": [
    "t = np.linspace(0, 500, 500)\n",
    "beta = 0.1\n",
    "I0 = 0.1\n",
    "y = model_SI(t, beta, I0)\n",
    "df = pd.DataFrame({'t': t[0:50], 'infected': y[0:50]}) # training data"
   ]
  },
  {
   "cell_type": "markdown",
   "id": "66df6999",
   "metadata": {},
   "source": [
    "## Defining our collocation points"
   ]
  },
  {
   "cell_type": "code",
   "execution_count": 5,
   "id": "80711b9f",
   "metadata": {},
   "outputs": [],
   "source": [
    "t_col = np.linspace(0, 500, 20)\n",
    "df_col = pd.DataFrame({'t_col': t_col})"
   ]
  },
  {
   "cell_type": "markdown",
   "id": "ee8afd41",
   "metadata": {},
   "source": [
    "## Defining tensors for training"
   ]
  },
  {
   "cell_type": "code",
   "execution_count": 6,
   "id": "bab4c8d1",
   "metadata": {},
   "outputs": [],
   "source": [
    "# for the data loss\n",
    "t_nn = torch.tensor(df['t'], dtype = torch.float32).view(-1, 1).requires_grad_(True)\n",
    "i_nn = torch.tensor(df['infected'], dtype = torch.float32).view(-1, 1)\n",
    "\n",
    "# for the boundary loss\n",
    "t_initial = torch.tensor([0.0], dtype=torch.float32).view(-1, 1)\n",
    "i_initial = torch.tensor([I0], dtype = torch.float32).view(-1, 1)\n",
    "\n",
    "# for the physics loss, collocation points\n",
    "t_col = torch.tensor(df_col['t_col'], dtype = torch.float32).view(-1, 1).requires_grad_(True)"
   ]
  },
  {
   "cell_type": "markdown",
   "id": "3e952c0a",
   "metadata": {},
   "source": [
    "## Defining our parameters\n",
    "\n",
    "While we minimize the loss function in order to obtain neural network parameters capable of predicting the SI model dynamics, we can also use this same optimization engine to inferr other parameters. In our case, we will try to inferr $\\beta$, the transmissibility of the simulated disease. In order to allow our workflow to inferr $\\beta$, we need to define it as a parameter rather than a constant scalar. We do this by:  "
   ]
  },
  {
   "cell_type": "code",
   "execution_count": 8,
   "id": "56744d57",
   "metadata": {},
   "outputs": [],
   "source": [
    "beta = torch.nn.Parameter(torch.tensor([beta], dtype = torch.float32, requires_grad = True))"
   ]
  },
  {
   "cell_type": "markdown",
   "id": "c3cb86ac",
   "metadata": {},
   "source": [
    "where we indicated the true $\\beta$ value as the starting value for the optimization. However, we could change this value, in situations in which we do not know the true parameters, by our best guess. "
   ]
  },
  {
   "cell_type": "markdown",
   "id": "73c08be3",
   "metadata": {},
   "source": [
    "## Defining model and optimizer\n",
    "Similarly to what we have been doing, we define the neural network:"
   ]
  },
  {
   "cell_type": "code",
   "execution_count": 9,
   "id": "00d2c1c4",
   "metadata": {},
   "outputs": [],
   "source": [
    "model = NNetwork(1, 1, 32, 3)"
   ]
  },
  {
   "cell_type": "markdown",
   "id": "cc8c89db",
   "metadata": {},
   "source": [
    "And the Adam optimizer we will use to find parameters, where we also specify the need to find the optimal $\\beta$ value:"
   ]
  },
  {
   "cell_type": "code",
   "execution_count": 10,
   "id": "6a3430bf",
   "metadata": {},
   "outputs": [],
   "source": [
    "optimizer = torch.optim.Adam(list(model.parameters()) + [beta], lr = 1e-4)"
   ]
  },
  {
   "cell_type": "markdown",
   "id": "f62a01b1",
   "metadata": {},
   "source": [
    "## Training the network\n",
    "\n",
    "We know train the network by iterating over epochs. In this code, we also added a command that allows us to print the loss over epochs, as well as the optimal $\\beta$ value found by our optimizer:"
   ]
  },
  {
   "cell_type": "code",
   "execution_count": 11,
   "id": "8fdf8844",
   "metadata": {},
   "outputs": [
    {
     "name": "stdout",
     "output_type": "stream",
     "text": [
      "Epoch 0, Loss: 0.1932343989610672, Beta: 0.09989999979734421\n",
      "Epoch 1000, Loss: 0.0023773901630192995, Beta: 0.03977826610207558\n",
      "Epoch 2000, Loss: 0.00017261582252103835, Beta: 0.006405285093933344\n",
      "Epoch 3000, Loss: 7.287680637091398e-05, Beta: 0.006384554784744978\n",
      "Epoch 4000, Loss: 4.0449598600389436e-05, Beta: 0.01631501130759716\n",
      "Epoch 5000, Loss: 2.7729129215003923e-05, Beta: 0.029654523357748985\n",
      "Epoch 6000, Loss: 1.973990583792329e-05, Beta: 0.04571545869112015\n",
      "Epoch 7000, Loss: 1.3916521311330143e-05, Beta: 0.06262847781181335\n",
      "Epoch 8000, Loss: 9.855331882135943e-06, Beta: 0.07629664987325668\n",
      "Epoch 9000, Loss: 7.186375114542898e-06, Beta: 0.08486580103635788\n"
     ]
    }
   ],
   "source": [
    "n_epochs = 10000\n",
    "loss_epochs = []\n",
    "\n",
    "for epoch in range(n_epochs):\n",
    "    \n",
    "    optimizer.zero_grad()\n",
    "    i_pred = model(t_nn)\n",
    "    i_pred_initial = model(t_initial)\n",
    "    i_col = model(t_col)\n",
    "    \n",
    "    # ODE Loss\n",
    "    dx = torch.autograd.grad(i_col, t_col, torch.ones_like(i_col), create_graph=True)[0]\n",
    "    loss_ode_aux = dx - beta*i_col*(1 - i_col)\n",
    "    loss_ode = torch.mean(loss_ode_aux**2)\n",
    "    \n",
    "    # Data Loss\n",
    "    loss_data = torch.mean((i_pred - i_nn)**2)\n",
    "    \n",
    "    # Boundary condition Loss\n",
    "    loss_boundary = torch.mean((i_pred_initial - i_initial)**2)\n",
    "    \n",
    "    # Calculate total loss\n",
    "    loss = loss_ode + loss_boundary + loss_data \n",
    "    loss_epochs.append(loss.item())\n",
    "    loss.backward()\n",
    "    optimizer.step()\n",
    "    \n",
    "    if epoch % 1000 == 0:\n",
    "        print(f\"Epoch {epoch}, Loss: {loss.item()}, Beta: {beta.item()}\")"
   ]
  },
  {
   "cell_type": "markdown",
   "id": "b199776a",
   "metadata": {},
   "source": [
    "Finally, we plot the loss over epochs by:"
   ]
  },
  {
   "cell_type": "code",
   "execution_count": 12,
   "id": "d7b7efde",
   "metadata": {},
   "outputs": [
    {
     "data": {
      "image/png": "[encoded data removed]",
      "text/plain": [
       "<Figure size 640x480 with 1 Axes>"
      ]
     },
     "metadata": {},
     "output_type": "display_data"
    }
   ],
   "source": [
    "plt.plot(loss_epochs)\n",
    "plt.xlabel('Epoch')\n",
    "plt.ylabel('Neural Network Loss')\n",
    "plt.show()"
   ]
  },
  {
   "cell_type": "markdown",
   "id": "a7738b42",
   "metadata": {},
   "source": [
    "Regarding inference, the $\\beta$ value can be obtained by doing:"
   ]
  },
  {
   "cell_type": "code",
   "execution_count": 13,
   "id": "2da8ad42",
   "metadata": {},
   "outputs": [
    {
     "name": "stdout",
     "output_type": "stream",
     "text": [
      "0.08992620557546616\n"
     ]
    }
   ],
   "source": [
    "print(beta.item())"
   ]
  },
  {
   "cell_type": "markdown",
   "id": "71a1d870",
   "metadata": {},
   "source": [
    "This value is not equal, but it is near, the $\\beta = 0.1$ that was used for simulations."
   ]
  },
  {
   "cell_type": "markdown",
   "id": "5ce37be4",
   "metadata": {},
   "source": [
    "## Comparison with data\n",
    "\n",
    "Finally, we plot the simulation dynamics, along with training data and PINN predictions."
   ]
  },
  {
   "cell_type": "code",
   "execution_count": 19,
   "id": "dbcf9a1f",
   "metadata": {},
   "outputs": [
    {
     "data": {
      "image/png": "[encoded data removed]",
      "text/plain": [
       "<Figure size 640x480 with 1 Axes>"
      ]
     },
     "metadata": {},
     "output_type": "display_data"
    }
   ],
   "source": [
    "# Simulation data\n",
    "df_total = pd.DataFrame({'t': t, 'infected': y})\n",
    "t_total = torch.tensor(df_total['t'], dtype = torch.float32).view(-1, 1)\n",
    "\n",
    "# prediction from PINN\n",
    "i_pred = model(t_total)\n",
    "df_total['i_pred_pinn'] = i_pred.detach().cpu().numpy()\n",
    "\n",
    "# Plotting\n",
    "plt.plot(df_total['t'], df_total['infected'], label = 'Ground Truth')\n",
    "plt.plot(df_total['t'][0:50], df_total['infected'][0:50], '-o', label = 'Train Data')\n",
    "plt.plot(df_total['t'], df_total['i_pred_pinn'], label = 'PINN')\n",
    "plt.xlabel('Time')\n",
    "plt.ylabel('Infected')\n",
    "plt.legend()\n",
    "#plt.yscale('log')\n",
    "plt.show()"
   ]
  }
 ],
 "metadata": {
  "kernelspec": {
   "display_name": "Python 3 (ipykernel)",
   "language": "python",
   "name": "python3"
  },
  "language_info": {
   "codemirror_mode": {
    "name": "ipython",
    "version": 3
   },
   "file_extension": ".py",
   "mimetype": "text/x-python",
   "name": "python",
   "nbconvert_exporter": "python",
   "pygments_lexer": "ipython3",
   "version": "3.8.16"
  }
 },
 "nbformat": 4,
 "nbformat_minor": 5
}
