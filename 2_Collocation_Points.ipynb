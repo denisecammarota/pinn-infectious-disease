{
 "cells": [
  {
   "cell_type": "markdown",
   "id": "f99d59c0",
   "metadata": {},
   "source": [
    "# Notebook 2: Collocation points for PINN\n",
    "\n",
    "In this notebook, we will come back to the loss function we defined before for PINNs, introducing the concept of collocation points and using them to enhance the performance of the network from the first notebook.\n",
    "\n"
   ]
  }
 ],
 "metadata": {
  "kernelspec": {
   "display_name": "Python 3 (ipykernel)",
   "language": "python",
   "name": "python3"
  },
  "language_info": {
   "codemirror_mode": {
    "name": "ipython",
    "version": 3
   },
   "file_extension": ".py",
   "mimetype": "text/x-python",
   "name": "python",
   "nbconvert_exporter": "python",
   "pygments_lexer": "ipython3",
   "version": "3.8.16"
  }
 },
 "nbformat": 4,
 "nbformat_minor": 5
}
